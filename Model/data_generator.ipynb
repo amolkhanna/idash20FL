{
 "metadata": {
  "language_info": {
   "codemirror_mode": {
    "name": "ipython",
    "version": 3
   },
   "file_extension": ".py",
   "mimetype": "text/x-python",
   "name": "python",
   "nbconvert_exporter": "python",
   "pygments_lexer": "ipython3",
   "version": "3.7.6-final"
  },
  "orig_nbformat": 2,
  "kernelspec": {
   "name": "python3",
   "display_name": "Python 3",
   "language": "python"
  }
 },
 "nbformat": 4,
 "nbformat_minor": 2,
 "cells": [
  {
   "cell_type": "code",
   "execution_count": 16,
   "metadata": {},
   "outputs": [],
   "source": [
    "import inspect\n",
    "import numpy as np\n",
    "import os\n",
    "import pandas as pd\n"
   ]
  },
  {
   "cell_type": "code",
   "execution_count": 17,
   "metadata": {},
   "outputs": [
    {
     "output_type": "stream",
     "name": "stdout",
     "text": [
      "(31, 17814) (30, 17814) (264, 17814) (265, 17814)\n"
     ]
    }
   ],
   "source": [
    "# Splits the data in an iid format\n",
    "__file__ = inspect.getfile(lambda: None)\n",
    "data_dir = os.path.abspath(os.path.dirname(__file__))\n",
    "\n",
    "with open(f'{data_dir}/BC-TCGA-Normal.txt') as f:\n",
    "    normal_df = pd.read_csv(f, sep='\\t', index_col=0)\n",
    "    normal_df = normal_df.fillna(normal_df.mean())\n",
    "    normal_df = normal_df.transpose()\n",
    "    normal_df = normal_df.sample(frac=1)\n",
    "    #normal_test_df = normal_df.iloc[:6, :]\n",
    "    normal_df_1 = normal_df.iloc[:31, :]\n",
    "    normal_df_2 = normal_df.iloc[31:, :]\n",
    "\n",
    "with open(f'{data_dir}/BC-TCGA-Tumor.txt') as f:\n",
    "    tumor_df = pd.read_csv(f, sep='\\t', index_col=0)\n",
    "    tumor_df = tumor_df.fillna(tumor_df.mean())\n",
    "    tumor_df = tumor_df.transpose()\n",
    "    tumor_df = tumor_df.sample(frac=1)\n",
    "    #tumor_test_df = tumor_df.iloc[:53, :]\n",
    "    tumor_df_1 = tumor_df.iloc[:264, :]\n",
    "    tumor_df_2 = tumor_df.iloc[264:, :]\n",
    "\n",
    "print(normal_df_1.shape, normal_df_2.shape, tumor_df_1.shape, tumor_df_2.shape)"
   ]
  },
  {
   "cell_type": "code",
   "execution_count": 18,
   "metadata": {},
   "outputs": [],
   "source": [
    "df_1 = pd.concat([normal_df_1, tumor_df_1])\n",
    "df_2 = pd.concat([normal_df_2, tumor_df_2])\n",
    "\n",
    "y_normal_1 = pd.DataFrame(0, index=normal_df_1.index.values, columns=[\"y\"])\n",
    "y_normal_2 = pd.DataFrame(0, index=normal_df_2.index.values, columns=[\"y\"])\n",
    "y_tumor_1 = pd.DataFrame(1, index=tumor_df_1.index.values, columns=[\"y\"])\n",
    "y_tumor_2 = pd.DataFrame(1, index=tumor_df_2.index.values, columns=[\"y\"])\n",
    "\n",
    "y_1 = pd.concat([y_normal_1, y_tumor_1])\n",
    "y_2 = pd.concat([y_normal_2, y_tumor_2])"
   ]
  },
  {
   "cell_type": "code",
   "execution_count": 19,
   "metadata": {},
   "outputs": [],
   "source": [
    "#normal_test_df.to_csv('test-Normal.txt', sep='\\t')\n",
    "#normal_df_1.to_csv('data1-Normal.txt', sep='\\t')\n",
    "#normal_df_2.to_csv('data2-Normal.txt', sep='\\t')\n",
    "#tumor_test_df.to_csv('test-Tumor.txt', sep='\\t')\n",
    "#tumor_df_1.to_csv('data1-Tumor.txt', sep='\\t')\n",
    "#tumor_df_2.to_csv('data2-Tumor.txt', sep='\\t')\n",
    "\n",
    "df_1.to_csv('data-1.csv')\n",
    "df_2.to_csv('data-2.csv')\n",
    "y_1.to_csv('results-1.csv')\n",
    "y_2.to_csv('results-2.csv')\n"
   ]
  },
  {
   "cell_type": "code",
   "execution_count": null,
   "metadata": {},
   "outputs": [],
   "source": []
  }
 ]
}